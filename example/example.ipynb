{
 "cells": [
  {
   "cell_type": "code",
   "execution_count": 1,
   "metadata": {},
   "outputs": [],
   "source": [
    "include(\"..//src//CepstralClustering.jl\")\n",
    "using YFinance\n",
    "using .CepstralClustering\n",
    "using Plots"
   ]
  },
  {
   "cell_type": "code",
   "execution_count": 37,
   "metadata": {},
   "outputs": [],
   "source": [
    "ncp = 10\n",
    "p = 2"
   ]
  },
  {
   "cell_type": "code",
   "execution_count": 46,
   "metadata": {},
   "outputs": [
    {
     "data": {
      "text/plain": [
       "\"e:\\\\Julia Forks\\\\TimeSeries-Cepstral-Clustering\\\\example\\\\CepstralCoefs.png\""
      ]
     },
     "metadata": {},
     "output_type": "display_data"
    }
   ],
   "source": [
    "tickers = [\"MSFT\", \"AAPL\", \"META\", \"GOOG\"]\n",
    "startdt = \"2019-01-01\"\n",
    "enddt = \"2020-01-01\"\n",
    "querry = [get_prices(ticker, startdt=startdt, enddt=enddt)[\"adjclose\"] for ticker in tickers]\n",
    "prices = stack(querry, dims=1);\n",
    "cepstralcoefs = cc(prices, p, ncp);\n",
    "#Ploting\n",
    "plot(\n",
    "  cepstralcoefs,\n",
    "  label=permutedims(tickers),\n",
    "  title=\"Cepstral Coefficients\\nAnalysed data range: $(startdt) to $(enddt)\",\n",
    "  xlabel=\"i'th coeff\",\n",
    "  ylabel=\"Coeff value\",\n",
    "  legend=:bottomright,\n",
    "  dpi=300,\n",
    ")\n",
    "# savefig(\"CepstralCoefs.png\")"
   ]
  },
  {
   "cell_type": "code",
   "execution_count": 47,
   "metadata": {},
   "outputs": [
    {
     "data": {
      "text/plain": [
       "\"e:\\\\Julia Forks\\\\TimeSeries-Cepstral-Clustering\\\\example\\\\CepstralCoefs1.png\""
      ]
     },
     "metadata": {},
     "output_type": "display_data"
    }
   ],
   "source": [
    "tickers = [\"MMM\", \"TSLA\", \"CSCO\", \"UBER\"]\n",
    "startdt = \"2023-01-01\"\n",
    "enddt = \"2023-12-01\"\n",
    "querry = [get_prices(ticker, startdt=startdt, enddt=enddt)[\"adjclose\"] for ticker in tickers]\n",
    "prices = stack(querry, dims=1);\n",
    "cepstralcoefs = cc(prices, p, ncp);\n",
    "#Ploting\n",
    "plot(\n",
    "  cepstralcoefs,\n",
    "  label=permutedims(tickers),\n",
    "  title=\"Cepstral Coefficients\\nAnalysed data range: $(startdt) to $(enddt)\",\n",
    "  xlabel=\"i'th coeff\",\n",
    "  ylabel=\"Coeff value\",\n",
    "  legend=:bottomright,\n",
    "  dpi=300,\n",
    ")\n",
    "# savefig(\"CepstralCoefs1.png\")"
   ]
  }
 ],
 "metadata": {
  "kernelspec": {
   "display_name": "Julia 1.10.0",
   "language": "julia",
   "name": "julia-1.10"
  },
  "language_info": {
   "file_extension": ".jl",
   "mimetype": "application/julia",
   "name": "julia",
   "version": "1.10.0"
  }
 },
 "nbformat": 4,
 "nbformat_minor": 2
}
